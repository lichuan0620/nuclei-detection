{
 "cells": [
  {
   "cell_type": "markdown",
   "metadata": {},
   "source": [
    "# 1. Prelimitary"
   ]
  },
  {
   "cell_type": "code",
   "execution_count": 1,
   "metadata": {},
   "outputs": [
    {
     "name": "stdout",
     "output_type": "stream",
     "text": [
      "Done!\n"
     ]
    }
   ],
   "source": [
    "import numpy as np\n",
    "import random\n",
    "from project_utils import load_train_set, load_test_set, hint\n",
    "\n",
    "random.seed()\n",
    "np.random.seed()\n",
    "\n",
    "TRAIN_PATH = 'data/train/'\n",
    "TEST_PATH = 'data/test/'\n",
    "\n",
    "hint(\"Loading train set...\")\n",
    "train = load_train_set(TRAIN_PATH)\n",
    "\n",
    "hint(\"Loading test set...\")\n",
    "test = load_test_set(TEST_PATH)\n",
    "\n",
    "hint(\"Done!\")"
   ]
  },
  {
   "cell_type": "markdown",
   "metadata": {},
   "source": [
    "# 2. Preprocessing"
   ]
  },
  {
   "cell_type": "code",
   "execution_count": 2,
   "metadata": {},
   "outputs": [
    {
     "name": "stdout",
     "output_type": "stream",
     "text": [
      "Done!\n"
     ]
    }
   ],
   "source": [
    "from project_utils import standardize_images\n",
    "\n",
    "IMAGE_DIM = (256, 256)\n",
    "\n",
    "hint(\"Working on X...\")\n",
    "X = standardize_images(train['image'], shape=IMAGE_DIM)\n",
    "hint(\"Working on Y...\")\n",
    "Y = standardize_images(train['mask'], shape=IMAGE_DIM, dtype=np.bool)\n",
    "hint(\"Working on X_...\")\n",
    "X_ = standardize_images(test['image'], shape=IMAGE_DIM)\n",
    "\n",
    "hint(\"Done!\")"
   ]
  },
  {
   "cell_type": "code",
   "execution_count": 3,
   "metadata": {},
   "outputs": [
    {
     "name": "stdout",
     "output_type": "stream",
     "text": [
      "1340 samples added (total 2010)\n"
     ]
    }
   ],
   "source": [
    "from project_utils import augment_data\n",
    "\n",
    "X, Y = augment_data(X, Y, rotate=True, inverse_color=True)\n",
    "print(\"%d samples added (total %d)\" % (X.shape[0]-train.shape[0], X.shape[0]))"
   ]
  },
  {
   "cell_type": "markdown",
   "metadata": {},
   "source": [
    "# 3. Model"
   ]
  },
  {
   "cell_type": "code",
   "execution_count": 4,
   "metadata": {},
   "outputs": [
    {
     "name": "stderr",
     "output_type": "stream",
     "text": [
      "c:\\users\\chuanli\\appdata\\local\\programs\\python\\python35\\lib\\site-packages\\h5py\\__init__.py:36: FutureWarning: Conversion of the second argument of issubdtype from `float` to `np.floating` is deprecated. In future, it will be treated as `np.float64 == np.dtype(float).type`.\n",
      "  from ._conv import register_converters as _register_converters\n",
      "Using TensorFlow backend.\n"
     ]
    }
   ],
   "source": [
    "from keras.models import Model\n",
    "from keras.layers import Input, Dense, Dropout, concatenate\n",
    "from keras.layers import Conv2D, Conv2DTranspose, MaxPooling2D\n",
    "from keras.optimizers import Adam\n",
    "\n",
    "CONV_BASE_SIZE = 16\n",
    "CONV_KERNEL = (3, 3)\n",
    "TRAN_KERNEL = (3, 3)\n",
    "CONV_ACTIVATION = 'relu'\n",
    "CONV_PADDING = 'same'\n",
    "CONV_KERNEL_INIT = 'glorot_normal'\n",
    "CONV_DROPOUT = 0.1\n",
    "POOLING_SIZE = (2, 2)\n",
    "OPTIMIZER = Adam(lr=0.0005)\n",
    "\n",
    "def build_conv_layer(filter_size):\n",
    "    \"\"\"\n",
    "    build a convolution layer using the preset hyperparameters\n",
    "    \"\"\"\n",
    "    return Conv2D(\n",
    "        filter_size, \n",
    "        kernel_size=CONV_KERNEL,\n",
    "        padding=CONV_PADDING,\n",
    "        activation=CONV_ACTIVATION,\n",
    "        kernel_initializer=CONV_KERNEL_INIT\n",
    "    )\n",
    "\n",
    "def build_conv_block(connect, depth):\n",
    "    \"\"\"\n",
    "    build a 2-convolutional-layer block\n",
    "    \"\"\"\n",
    "    filter_size = CONV_BASE_SIZE*(2**depth)\n",
    "    x = build_conv_layer(filter_size)(connect)\n",
    "    x = Dropout(CONV_DROPOUT)(x)\n",
    "    x = build_conv_layer(filter_size)(x)\n",
    "    return x\n",
    "\n",
    "def build_upsample_block(connect, merge, depth):\n",
    "    \"\"\"\n",
    "    build a upsampling block\n",
    "    \"\"\"\n",
    "    filter_size = CONV_BASE_SIZE*(2**depth)\n",
    "    x = Conv2DTranspose(\n",
    "        filter_size, \n",
    "        TRAN_KERNEL, \n",
    "        strides=POOLING_SIZE, \n",
    "        padding=CONV_PADDING\n",
    "    )(connect)\n",
    "    return concatenate([x, merge])"
   ]
  },
  {
   "cell_type": "code",
   "execution_count": 5,
   "metadata": {
    "scrolled": false
   },
   "outputs": [
    {
     "name": "stdout",
     "output_type": "stream",
     "text": [
      "__________________________________________________________________________________________________\n",
      "Layer (type)                    Output Shape         Param #     Connected to                     \n",
      "==================================================================================================\n",
      "input_1 (InputLayer)            (None, 256, 256, 1)  0                                            \n",
      "__________________________________________________________________________________________________\n",
      "conv2d_1 (Conv2D)               (None, 256, 256, 16) 160         input_1[0][0]                    \n",
      "__________________________________________________________________________________________________\n",
      "dropout_1 (Dropout)             (None, 256, 256, 16) 0           conv2d_1[0][0]                   \n",
      "__________________________________________________________________________________________________\n",
      "conv2d_2 (Conv2D)               (None, 256, 256, 16) 2320        dropout_1[0][0]                  \n",
      "__________________________________________________________________________________________________\n",
      "max_pooling2d_1 (MaxPooling2D)  (None, 128, 128, 16) 0           conv2d_2[0][0]                   \n",
      "__________________________________________________________________________________________________\n",
      "conv2d_3 (Conv2D)               (None, 128, 128, 32) 4640        max_pooling2d_1[0][0]            \n",
      "__________________________________________________________________________________________________\n",
      "dropout_2 (Dropout)             (None, 128, 128, 32) 0           conv2d_3[0][0]                   \n",
      "__________________________________________________________________________________________________\n",
      "conv2d_4 (Conv2D)               (None, 128, 128, 32) 9248        dropout_2[0][0]                  \n",
      "__________________________________________________________________________________________________\n",
      "max_pooling2d_2 (MaxPooling2D)  (None, 64, 64, 32)   0           conv2d_4[0][0]                   \n",
      "__________________________________________________________________________________________________\n",
      "conv2d_5 (Conv2D)               (None, 64, 64, 64)   18496       max_pooling2d_2[0][0]            \n",
      "__________________________________________________________________________________________________\n",
      "dropout_3 (Dropout)             (None, 64, 64, 64)   0           conv2d_5[0][0]                   \n",
      "__________________________________________________________________________________________________\n",
      "conv2d_6 (Conv2D)               (None, 64, 64, 64)   36928       dropout_3[0][0]                  \n",
      "__________________________________________________________________________________________________\n",
      "max_pooling2d_3 (MaxPooling2D)  (None, 32, 32, 64)   0           conv2d_6[0][0]                   \n",
      "__________________________________________________________________________________________________\n",
      "conv2d_7 (Conv2D)               (None, 32, 32, 128)  73856       max_pooling2d_3[0][0]            \n",
      "__________________________________________________________________________________________________\n",
      "dropout_4 (Dropout)             (None, 32, 32, 128)  0           conv2d_7[0][0]                   \n",
      "__________________________________________________________________________________________________\n",
      "conv2d_8 (Conv2D)               (None, 32, 32, 128)  147584      dropout_4[0][0]                  \n",
      "__________________________________________________________________________________________________\n",
      "max_pooling2d_4 (MaxPooling2D)  (None, 16, 16, 128)  0           conv2d_8[0][0]                   \n",
      "__________________________________________________________________________________________________\n",
      "conv2d_9 (Conv2D)               (None, 16, 16, 256)  295168      max_pooling2d_4[0][0]            \n",
      "__________________________________________________________________________________________________\n",
      "dropout_5 (Dropout)             (None, 16, 16, 256)  0           conv2d_9[0][0]                   \n",
      "__________________________________________________________________________________________________\n",
      "conv2d_10 (Conv2D)              (None, 16, 16, 256)  590080      dropout_5[0][0]                  \n",
      "__________________________________________________________________________________________________\n",
      "conv2d_transpose_1 (Conv2DTrans (None, 32, 32, 128)  295040      conv2d_10[0][0]                  \n",
      "__________________________________________________________________________________________________\n",
      "concatenate_1 (Concatenate)     (None, 32, 32, 256)  0           conv2d_transpose_1[0][0]         \n",
      "                                                                 conv2d_8[0][0]                   \n",
      "__________________________________________________________________________________________________\n",
      "conv2d_11 (Conv2D)              (None, 32, 32, 128)  295040      concatenate_1[0][0]              \n",
      "__________________________________________________________________________________________________\n",
      "dropout_6 (Dropout)             (None, 32, 32, 128)  0           conv2d_11[0][0]                  \n",
      "__________________________________________________________________________________________________\n",
      "conv2d_12 (Conv2D)              (None, 32, 32, 128)  147584      dropout_6[0][0]                  \n",
      "__________________________________________________________________________________________________\n",
      "conv2d_transpose_2 (Conv2DTrans (None, 64, 64, 64)   73792       conv2d_12[0][0]                  \n",
      "__________________________________________________________________________________________________\n",
      "concatenate_2 (Concatenate)     (None, 64, 64, 128)  0           conv2d_transpose_2[0][0]         \n",
      "                                                                 conv2d_6[0][0]                   \n",
      "__________________________________________________________________________________________________\n",
      "conv2d_13 (Conv2D)              (None, 64, 64, 64)   73792       concatenate_2[0][0]              \n",
      "__________________________________________________________________________________________________\n",
      "dropout_7 (Dropout)             (None, 64, 64, 64)   0           conv2d_13[0][0]                  \n",
      "__________________________________________________________________________________________________\n",
      "conv2d_14 (Conv2D)              (None, 64, 64, 64)   36928       dropout_7[0][0]                  \n",
      "__________________________________________________________________________________________________\n",
      "conv2d_transpose_3 (Conv2DTrans (None, 128, 128, 32) 18464       conv2d_14[0][0]                  \n",
      "__________________________________________________________________________________________________\n",
      "concatenate_3 (Concatenate)     (None, 128, 128, 64) 0           conv2d_transpose_3[0][0]         \n",
      "                                                                 conv2d_4[0][0]                   \n",
      "__________________________________________________________________________________________________\n",
      "conv2d_15 (Conv2D)              (None, 128, 128, 32) 18464       concatenate_3[0][0]              \n",
      "__________________________________________________________________________________________________\n",
      "dropout_8 (Dropout)             (None, 128, 128, 32) 0           conv2d_15[0][0]                  \n",
      "__________________________________________________________________________________________________\n",
      "conv2d_16 (Conv2D)              (None, 128, 128, 32) 9248        dropout_8[0][0]                  \n",
      "__________________________________________________________________________________________________\n",
      "conv2d_transpose_4 (Conv2DTrans (None, 256, 256, 16) 4624        conv2d_16[0][0]                  \n",
      "__________________________________________________________________________________________________\n",
      "concatenate_4 (Concatenate)     (None, 256, 256, 32) 0           conv2d_transpose_4[0][0]         \n",
      "                                                                 conv2d_2[0][0]                   \n",
      "__________________________________________________________________________________________________\n",
      "conv2d_17 (Conv2D)              (None, 256, 256, 16) 4624        concatenate_4[0][0]              \n"
     ]
    },
    {
     "name": "stdout",
     "output_type": "stream",
     "text": [
      "__________________________________________________________________________________________________\n",
      "dropout_9 (Dropout)             (None, 256, 256, 16) 0           conv2d_17[0][0]                  \n",
      "__________________________________________________________________________________________________\n",
      "conv2d_18 (Conv2D)              (None, 256, 256, 16) 2320        dropout_9[0][0]                  \n",
      "__________________________________________________________________________________________________\n",
      "conv2d_19 (Conv2D)              (None, 256, 256, 1)  17          conv2d_18[0][0]                  \n",
      "==================================================================================================\n",
      "Total params: 2,158,417\n",
      "Trainable params: 2,158,417\n",
      "Non-trainable params: 0\n",
      "__________________________________________________________________________________________________\n"
     ]
    }
   ],
   "source": [
    "# input layer\n",
    "inputs = Input((IMAGE_DIM + (1,)))\n",
    "\n",
    "# downsampling layers (left of the U)\n",
    "down_conv_0 = build_conv_block(inputs, depth=0)\n",
    "down_pool_0 = MaxPooling2D(POOLING_SIZE)(down_conv_0)\n",
    "down_conv_1 = build_conv_block(down_pool_0, depth=1)\n",
    "down_pool_1 = MaxPooling2D(POOLING_SIZE)(down_conv_1)\n",
    "down_conv_2 = build_conv_block(down_pool_1, depth=2)\n",
    "down_pool_2 = MaxPooling2D(POOLING_SIZE)(down_conv_2)\n",
    "down_conv_3 = build_conv_block(down_pool_2, depth=3)\n",
    "down_pool_3 = MaxPooling2D(POOLING_SIZE)(down_conv_3)\n",
    "\n",
    "# bottom layer\n",
    "conv_bottom = build_conv_block(down_pool_3, depth=4)\n",
    "\n",
    "# upsampling layers (right of the U)\n",
    "upsample_3 = build_upsample_block(conv_bottom, down_conv_3, 3)\n",
    "up_conv_3 = build_conv_block(upsample_3, depth=3)\n",
    "upsample_2= build_upsample_block(up_conv_3, down_conv_2, 2)\n",
    "up_conv_2= build_conv_block(upsample_2, depth=2)\n",
    "upsample_1= build_upsample_block(up_conv_2, down_conv_1, 1)\n",
    "up_conv_1= build_conv_block(upsample_1, depth=1)\n",
    "upsample_0= build_upsample_block(up_conv_1, down_conv_0, 0)\n",
    "up_conv_0= build_conv_block(upsample_0, depth=0)\n",
    "\n",
    "# output layer\n",
    "outputs = Conv2D(1, (1, 1), activation='sigmoid')(up_conv_0)\n",
    "\n",
    "# compile\n",
    "model = Model(inputs=[inputs], outputs=[outputs])\n",
    "model.compile(\n",
    "    optimizer=OPTIMIZER, \n",
    "    loss='binary_crossentropy', \n",
    "    metrics=['accuracy']\n",
    ")\n",
    "model.summary()"
   ]
  },
  {
   "cell_type": "code",
   "execution_count": 6,
   "metadata": {},
   "outputs": [
    {
     "name": "stdout",
     "output_type": "stream",
     "text": [
      "Train on 1809 samples, validate on 201 samples\n",
      "Epoch 1/50\n",
      " - 20s - loss: 0.4490 - acc: 0.8479 - val_loss: 0.3367 - val_acc: 0.8545\n",
      "Epoch 2/50\n",
      " - 17s - loss: 0.2951 - acc: 0.8715 - val_loss: 0.3351 - val_acc: 0.8836\n",
      "Epoch 3/50\n",
      " - 17s - loss: 0.2502 - acc: 0.9019 - val_loss: 0.2101 - val_acc: 0.9142\n",
      "Epoch 4/50\n",
      " - 17s - loss: 0.2057 - acc: 0.9122 - val_loss: 0.1913 - val_acc: 0.9189\n",
      "Epoch 5/50\n",
      " - 17s - loss: 0.1897 - acc: 0.9190 - val_loss: 0.1497 - val_acc: 0.9325\n",
      "Epoch 6/50\n",
      " - 16s - loss: 0.1542 - acc: 0.9309 - val_loss: 0.1814 - val_acc: 0.9215\n",
      "Epoch 7/50\n",
      " - 17s - loss: 0.1348 - acc: 0.9393 - val_loss: 0.1456 - val_acc: 0.9374\n",
      "Epoch 8/50\n",
      " - 17s - loss: 0.1271 - acc: 0.9447 - val_loss: 0.1722 - val_acc: 0.9299\n",
      "Epoch 9/50\n",
      " - 17s - loss: 0.1178 - acc: 0.9488 - val_loss: 0.1409 - val_acc: 0.9421\n",
      "Epoch 10/50\n",
      " - 17s - loss: 0.1125 - acc: 0.9518 - val_loss: 0.1492 - val_acc: 0.9411\n",
      "Epoch 11/50\n",
      " - 17s - loss: 0.1123 - acc: 0.9525 - val_loss: 0.1570 - val_acc: 0.9297\n",
      "Epoch 12/50\n",
      " - 17s - loss: 0.1078 - acc: 0.9546 - val_loss: 0.2227 - val_acc: 0.9362\n",
      "Epoch 13/50\n",
      " - 17s - loss: 0.1031 - acc: 0.9564 - val_loss: 0.1121 - val_acc: 0.9539\n",
      "Epoch 14/50\n",
      " - 17s - loss: 0.0934 - acc: 0.9606 - val_loss: 0.2305 - val_acc: 0.9375\n",
      "Epoch 15/50\n",
      " - 17s - loss: 0.0891 - acc: 0.9627 - val_loss: 0.1465 - val_acc: 0.9471\n",
      "Epoch 16/50\n",
      " - 17s - loss: 0.0865 - acc: 0.9639 - val_loss: 0.1860 - val_acc: 0.9419\n",
      "Epoch 17/50\n",
      " - 17s - loss: 0.0856 - acc: 0.9641 - val_loss: 0.1605 - val_acc: 0.9442\n",
      "Epoch 18/50\n",
      " - 17s - loss: 0.0812 - acc: 0.9663 - val_loss: 0.1604 - val_acc: 0.9471\n",
      "Epoch 19/50\n",
      " - 17s - loss: 0.0827 - acc: 0.9656 - val_loss: 0.1076 - val_acc: 0.9576\n",
      "Epoch 20/50\n",
      " - 17s - loss: 0.0810 - acc: 0.9664 - val_loss: 0.1159 - val_acc: 0.9555\n",
      "Epoch 21/50\n",
      " - 17s - loss: 0.0744 - acc: 0.9693 - val_loss: 0.1771 - val_acc: 0.9465\n",
      "Epoch 22/50\n",
      " - 17s - loss: 0.0778 - acc: 0.9681 - val_loss: 0.1433 - val_acc: 0.9499\n",
      "Epoch 23/50\n",
      " - 17s - loss: 0.0742 - acc: 0.9695 - val_loss: 0.1761 - val_acc: 0.9448\n",
      "Epoch 24/50\n",
      " - 17s - loss: 0.0749 - acc: 0.9690 - val_loss: 0.1588 - val_acc: 0.9484\n",
      "Epoch 25/50\n",
      " - 17s - loss: 0.0697 - acc: 0.9712 - val_loss: 0.1858 - val_acc: 0.9467\n",
      "Epoch 26/50\n",
      " - 17s - loss: 0.0695 - acc: 0.9714 - val_loss: 0.1900 - val_acc: 0.9464\n",
      "Epoch 27/50\n",
      " - 17s - loss: 0.0716 - acc: 0.9705 - val_loss: 0.1812 - val_acc: 0.9481\n",
      "Epoch 28/50\n",
      " - 17s - loss: 0.0667 - acc: 0.9725 - val_loss: 0.1265 - val_acc: 0.9563\n",
      "Epoch 29/50\n",
      " - 17s - loss: 0.0661 - acc: 0.9728 - val_loss: 0.1730 - val_acc: 0.9500\n",
      "Epoch 30/50\n",
      " - 17s - loss: 0.0633 - acc: 0.9738 - val_loss: 0.1142 - val_acc: 0.9600\n",
      "Epoch 31/50\n",
      " - 17s - loss: 0.0629 - acc: 0.9740 - val_loss: 0.2244 - val_acc: 0.9472\n",
      "Epoch 32/50\n",
      " - 17s - loss: 0.0596 - acc: 0.9753 - val_loss: 0.1932 - val_acc: 0.9489\n",
      "Epoch 33/50\n",
      " - 17s - loss: 0.0582 - acc: 0.9760 - val_loss: 0.0900 - val_acc: 0.9657\n",
      "Epoch 34/50\n",
      " - 17s - loss: 0.0572 - acc: 0.9763 - val_loss: 0.1280 - val_acc: 0.9577\n",
      "Epoch 35/50\n",
      " - 17s - loss: 0.0651 - acc: 0.9733 - val_loss: 0.0902 - val_acc: 0.9657\n",
      "Epoch 36/50\n",
      " - 17s - loss: 0.0571 - acc: 0.9764 - val_loss: 0.1408 - val_acc: 0.9558\n",
      "Epoch 37/50\n",
      " - 17s - loss: 0.0581 - acc: 0.9760 - val_loss: 0.1726 - val_acc: 0.9506\n",
      "Epoch 38/50\n",
      " - 17s - loss: 0.0540 - acc: 0.9777 - val_loss: 0.1159 - val_acc: 0.9608\n",
      "Epoch 39/50\n",
      " - 17s - loss: 0.0531 - acc: 0.9780 - val_loss: 0.1354 - val_acc: 0.9591\n",
      "Epoch 40/50\n",
      " - 17s - loss: 0.0507 - acc: 0.9790 - val_loss: 0.1265 - val_acc: 0.9603\n",
      "Epoch 41/50\n",
      " - 17s - loss: 0.0494 - acc: 0.9795 - val_loss: 0.1516 - val_acc: 0.9547\n",
      "Epoch 42/50\n",
      " - 17s - loss: 0.0495 - acc: 0.9795 - val_loss: 0.1295 - val_acc: 0.9600\n",
      "Epoch 43/50\n",
      " - 17s - loss: 0.0495 - acc: 0.9795 - val_loss: 0.1241 - val_acc: 0.9625\n",
      "Epoch 44/50\n",
      " - 17s - loss: 0.0497 - acc: 0.9794 - val_loss: 0.1292 - val_acc: 0.9602\n",
      "Epoch 45/50\n",
      " - 17s - loss: 0.0465 - acc: 0.9806 - val_loss: 0.1251 - val_acc: 0.9604\n",
      "Epoch 46/50\n",
      " - 17s - loss: 0.0462 - acc: 0.9807 - val_loss: 0.1737 - val_acc: 0.9558\n",
      "Epoch 47/50\n",
      " - 17s - loss: 0.0642 - acc: 0.9742 - val_loss: 0.1026 - val_acc: 0.9645\n",
      "Epoch 48/50\n",
      " - 17s - loss: 0.0480 - acc: 0.9800 - val_loss: 0.1589 - val_acc: 0.9566\n",
      "Epoch 49/50\n",
      " - 17s - loss: 0.0453 - acc: 0.9811 - val_loss: 0.1782 - val_acc: 0.9555\n",
      "Epoch 50/50\n",
      " - 17s - loss: 0.0443 - acc: 0.9815 - val_loss: 0.1370 - val_acc: 0.9614\n"
     ]
    }
   ],
   "source": [
    "from keras.callbacks import EarlyStopping, ModelCheckpoint\n",
    "from keras.models import load_model\n",
    "from sklearn.model_selection import train_test_split\n",
    "\n",
    "BATCH_SIZE = 16\n",
    "EPOCHS = 50\n",
    "VALIDATION_SIZE = 0.1\n",
    "BEST_MODEL_FILENAME = 'checkpoints/dsb2018-unet-benchmark-checkpoint.h5'\n",
    "CALLBACKS = [\n",
    "    ModelCheckpoint(BEST_MODEL_FILENAME, save_best_only=True)\n",
    "]\n",
    "\n",
    "Xtr, Xva, Ytr, Yva = train_test_split(X, Y, test_size=VALIDATION_SIZE)\n",
    "\n",
    "history = model.fit(\n",
    "    Xtr, Ytr, \n",
    "    validation_data=(Xva, Yva),\n",
    "    batch_size=BATCH_SIZE, \n",
    "    epochs=EPOCHS, \n",
    "    callbacks=CALLBACKS,\n",
    "    verbose=2\n",
    ")\n",
    "\n",
    "model = load_model(BEST_MODEL_FILENAME)"
   ]
  },
  {
   "cell_type": "markdown",
   "metadata": {},
   "source": [
    "# 4. Conclusion"
   ]
  },
  {
   "cell_type": "code",
   "execution_count": 7,
   "metadata": {},
   "outputs": [
    {
     "data": {
      "image/png": "[encoded data removed]",
      "text/plain": [
       "<matplotlib.figure.Figure at 0x1322df9bdd8>"
      ]
     },
     "metadata": {},
     "output_type": "display_data"
    }
   ],
   "source": [
    "from project_utils import show_history\n",
    "\n",
    "show_history(history.history)"
   ]
  },
  {
   "cell_type": "code",
   "execution_count": 9,
   "metadata": {},
   "outputs": [
    {
     "name": "stderr",
     "output_type": "stream",
     "text": [
      "c:\\users\\chuanli\\appdata\\local\\programs\\python\\python35\\lib\\site-packages\\skimage\\transform\\_warps.py:84: UserWarning: The default mode, 'constant', will be changed to 'reflect' in skimage 0.15.\n",
      "  warn(\"The default mode, 'constant', will be changed to 'reflect' in \"\n"
     ]
    },
    {
     "name": "stdout",
     "output_type": "stream",
     "text": [
      "Submittable file saved as \"submission/benchmark_20180324-131045.csv\"\n"
     ]
    }
   ],
   "source": [
    "from project_utils import format_prediction, make_submittable\n",
    "\n",
    "PREDICTION_THRESHOLD = 0.5\n",
    "\n",
    "Y_ = format_prediction(\n",
    "    model.predict(X_), \n",
    "    original = test['image'],\n",
    "    reduce_dimension=True\n",
    ")\n",
    "\n",
    "file_name = make_submittable(test['id'], Y_, title='benchmark')\n",
    "print(\"Submittable file saved as \\\"%s\\\"\" % file_name)"
   ]
  },
  {
   "cell_type": "code",
   "execution_count": null,
   "metadata": {},
   "outputs": [],
   "source": []
  }
 ],
 "metadata": {
  "kernelspec": {
   "display_name": "Python 3",
   "language": "python",
   "name": "python3"
  },
  "language_info": {
   "codemirror_mode": {
    "name": "ipython",
    "version": 3
   },
   "file_extension": ".py",
   "mimetype": "text/x-python",
   "name": "python",
   "nbconvert_exporter": "python",
   "pygments_lexer": "ipython3",
   "version": "3.5.2"
  }
 },
 "nbformat": 4,
 "nbformat_minor": 2
}
