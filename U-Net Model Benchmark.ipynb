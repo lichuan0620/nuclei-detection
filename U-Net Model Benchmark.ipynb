{
 "cells": [
  {
   "cell_type": "markdown",
   "metadata": {},
   "source": [
    "# 1. Prelimitary"
   ]
  },
  {
   "cell_type": "code",
   "execution_count": 1,
   "metadata": {},
   "outputs": [
    {
     "name": "stdout",
     "output_type": "stream",
     "text": [
      "Done!\n"
     ]
    }
   ],
   "source": [
    "import numpy as np\n",
    "import random\n",
    "from project_utils import load_train_set, load_test_set, hint\n",
    "\n",
    "random.seed()\n",
    "np.random.seed()\n",
    "\n",
    "TRAIN_PATH = 'data/train/'\n",
    "TEST_PATH = 'data/test/'\n",
    "\n",
    "hint(\"Loading train set...\")\n",
    "train = load_train_set(TRAIN_PATH)\n",
    "\n",
    "hint(\"Loading test set...\")\n",
    "test = load_test_set(TEST_PATH)\n",
    "\n",
    "hint(\"Done!\")"
   ]
  },
  {
   "cell_type": "markdown",
   "metadata": {},
   "source": [
    "# 2. Preprocessing"
   ]
  },
  {
   "cell_type": "code",
   "execution_count": 2,
   "metadata": {},
   "outputs": [
    {
     "name": "stdout",
     "output_type": "stream",
     "text": [
      "Done!\n"
     ]
    }
   ],
   "source": [
    "from project_utils import standardize_images\n",
    "\n",
    "IMAGE_DIM = (256, 256)\n",
    "\n",
    "hint(\"Working on X...\")\n",
    "X = standardize_images(train['image'], shape=IMAGE_DIM)\n",
    "hint(\"Working on Y...\")\n",
    "Y = standardize_images(train['mask'], shape=IMAGE_DIM, dtype=np.bool)\n",
    "hint(\"Working on X_...\")\n",
    "X_ = standardize_images(test['image'], shape=IMAGE_DIM)\n",
    "\n",
    "hint(\"Done!\")"
   ]
  },
  {
   "cell_type": "code",
   "execution_count": 3,
   "metadata": {},
   "outputs": [
    {
     "name": "stdout",
     "output_type": "stream",
     "text": [
      "1340 samples added (total 2010)\n"
     ]
    }
   ],
   "source": [
    "from project_utils import augment_data\n",
    "\n",
    "X, Y = augment_data(X, Y, rotate=True, inverse_color=True)\n",
    "print(\"%d samples added (total %d)\" % (X.shape[0]-train.shape[0], X.shape[0]))"
   ]
  },
  {
   "cell_type": "markdown",
   "metadata": {},
   "source": [
    "# 3. Model"
   ]
  },
  {
   "cell_type": "code",
   "execution_count": 4,
   "metadata": {},
   "outputs": [
    {
     "name": "stderr",
     "output_type": "stream",
     "text": [
      "c:\\users\\chuanli\\appdata\\local\\programs\\python\\python35\\lib\\site-packages\\h5py\\__init__.py:36: FutureWarning: Conversion of the second argument of issubdtype from `float` to `np.floating` is deprecated. In future, it will be treated as `np.float64 == np.dtype(float).type`.\n",
      "  from ._conv import register_converters as _register_converters\n",
      "Using TensorFlow backend.\n"
     ]
    }
   ],
   "source": [
    "from keras.models import Model\n",
    "from keras.layers import Input, Dense, Dropout, concatenate\n",
    "from keras.layers import Conv2D, Conv2DTranspose, MaxPooling2D\n",
    "from keras.optimizers import Adam\n",
    "\n",
    "CONV_BASE_SIZE = 16\n",
    "CONV_KERNEL = (3, 3)\n",
    "TRAN_KERNEL = (3, 3)\n",
    "CONV_ACTIVATION = 'relu'\n",
    "CONV_PADDING = 'same'\n",
    "CONV_KERNEL_INIT = 'glorot_normal'\n",
    "CONV_DROPOUT = 0.2\n",
    "POOLING_SIZE = (2, 2)\n",
    "OPTIMIZER = Adam(lr=0.0002)\n",
    "\n",
    "def build_conv_layer(filter_size):\n",
    "    \"\"\"\n",
    "    build a convolution layer using the preset hyperparameters\n",
    "    \"\"\"\n",
    "    return Conv2D(\n",
    "        filter_size, \n",
    "        kernel_size=CONV_KERNEL,\n",
    "        padding=CONV_PADDING,\n",
    "        activation=CONV_ACTIVATION,\n",
    "        kernel_initializer=CONV_KERNEL_INIT\n",
    "    )\n",
    "\n",
    "def build_conv_block(connect, depth):\n",
    "    \"\"\"\n",
    "    build a 2-convolutional-layer block\n",
    "    \"\"\"\n",
    "    filter_size = CONV_BASE_SIZE*(2**depth)\n",
    "    x = build_conv_layer(filter_size)(connect)\n",
    "    x = Dropout(CONV_DROPOUT)(x)\n",
    "    x = build_conv_layer(filter_size)(x)\n",
    "    return x\n",
    "\n",
    "def build_upsample_block(connect, merge, depth):\n",
    "    \"\"\"\n",
    "    build a upsampling block\n",
    "    \"\"\"\n",
    "    filter_size = CONV_BASE_SIZE*(2**depth)\n",
    "    x = Conv2DTranspose(\n",
    "        filter_size, \n",
    "        TRAN_KERNEL, \n",
    "        strides=POOLING_SIZE, \n",
    "        padding=CONV_PADDING\n",
    "    )(connect)\n",
    "    return concatenate([x, merge])"
   ]
  },
  {
   "cell_type": "code",
   "execution_count": 7,
   "metadata": {
    "scrolled": false
   },
   "outputs": [
    {
     "name": "stdout",
     "output_type": "stream",
     "text": [
      "__________________________________________________________________________________________________\n",
      "Layer (type)                    Output Shape         Param #     Connected to                     \n",
      "==================================================================================================\n",
      "input_2 (InputLayer)            (None, 256, 256, 1)  0                                            \n",
      "__________________________________________________________________________________________________\n",
      "conv2d_20 (Conv2D)              (None, 256, 256, 16) 160         input_2[0][0]                    \n",
      "__________________________________________________________________________________________________\n",
      "dropout_10 (Dropout)            (None, 256, 256, 16) 0           conv2d_20[0][0]                  \n",
      "__________________________________________________________________________________________________\n",
      "conv2d_21 (Conv2D)              (None, 256, 256, 16) 2320        dropout_10[0][0]                 \n",
      "__________________________________________________________________________________________________\n",
      "max_pooling2d_5 (MaxPooling2D)  (None, 128, 128, 16) 0           conv2d_21[0][0]                  \n",
      "__________________________________________________________________________________________________\n",
      "conv2d_22 (Conv2D)              (None, 128, 128, 32) 4640        max_pooling2d_5[0][0]            \n",
      "__________________________________________________________________________________________________\n",
      "dropout_11 (Dropout)            (None, 128, 128, 32) 0           conv2d_22[0][0]                  \n",
      "__________________________________________________________________________________________________\n",
      "conv2d_23 (Conv2D)              (None, 128, 128, 32) 9248        dropout_11[0][0]                 \n",
      "__________________________________________________________________________________________________\n",
      "max_pooling2d_6 (MaxPooling2D)  (None, 64, 64, 32)   0           conv2d_23[0][0]                  \n",
      "__________________________________________________________________________________________________\n",
      "conv2d_24 (Conv2D)              (None, 64, 64, 64)   18496       max_pooling2d_6[0][0]            \n",
      "__________________________________________________________________________________________________\n",
      "dropout_12 (Dropout)            (None, 64, 64, 64)   0           conv2d_24[0][0]                  \n",
      "__________________________________________________________________________________________________\n",
      "conv2d_25 (Conv2D)              (None, 64, 64, 64)   36928       dropout_12[0][0]                 \n",
      "__________________________________________________________________________________________________\n",
      "max_pooling2d_7 (MaxPooling2D)  (None, 32, 32, 64)   0           conv2d_25[0][0]                  \n",
      "__________________________________________________________________________________________________\n",
      "conv2d_26 (Conv2D)              (None, 32, 32, 128)  73856       max_pooling2d_7[0][0]            \n",
      "__________________________________________________________________________________________________\n",
      "dropout_13 (Dropout)            (None, 32, 32, 128)  0           conv2d_26[0][0]                  \n",
      "__________________________________________________________________________________________________\n",
      "conv2d_27 (Conv2D)              (None, 32, 32, 128)  147584      dropout_13[0][0]                 \n",
      "__________________________________________________________________________________________________\n",
      "max_pooling2d_8 (MaxPooling2D)  (None, 16, 16, 128)  0           conv2d_27[0][0]                  \n",
      "__________________________________________________________________________________________________\n",
      "conv2d_28 (Conv2D)              (None, 16, 16, 256)  295168      max_pooling2d_8[0][0]            \n",
      "__________________________________________________________________________________________________\n",
      "dropout_14 (Dropout)            (None, 16, 16, 256)  0           conv2d_28[0][0]                  \n",
      "__________________________________________________________________________________________________\n",
      "conv2d_29 (Conv2D)              (None, 16, 16, 256)  590080      dropout_14[0][0]                 \n",
      "__________________________________________________________________________________________________\n",
      "conv2d_transpose_5 (Conv2DTrans (None, 32, 32, 128)  295040      conv2d_29[0][0]                  \n",
      "__________________________________________________________________________________________________\n",
      "concatenate_5 (Concatenate)     (None, 32, 32, 256)  0           conv2d_transpose_5[0][0]         \n",
      "                                                                 conv2d_27[0][0]                  \n",
      "__________________________________________________________________________________________________\n",
      "conv2d_30 (Conv2D)              (None, 32, 32, 128)  295040      concatenate_5[0][0]              \n",
      "__________________________________________________________________________________________________\n",
      "dropout_15 (Dropout)            (None, 32, 32, 128)  0           conv2d_30[0][0]                  \n",
      "__________________________________________________________________________________________________\n",
      "conv2d_31 (Conv2D)              (None, 32, 32, 128)  147584      dropout_15[0][0]                 \n",
      "__________________________________________________________________________________________________\n",
      "conv2d_transpose_6 (Conv2DTrans (None, 64, 64, 64)   73792       conv2d_31[0][0]                  \n",
      "__________________________________________________________________________________________________\n",
      "concatenate_6 (Concatenate)     (None, 64, 64, 128)  0           conv2d_transpose_6[0][0]         \n",
      "                                                                 conv2d_25[0][0]                  \n",
      "__________________________________________________________________________________________________\n",
      "conv2d_32 (Conv2D)              (None, 64, 64, 128)  147584      concatenate_6[0][0]              \n",
      "__________________________________________________________________________________________________\n",
      "dropout_16 (Dropout)            (None, 64, 64, 128)  0           conv2d_32[0][0]                  \n",
      "__________________________________________________________________________________________________\n",
      "conv2d_33 (Conv2D)              (None, 64, 64, 128)  147584      dropout_16[0][0]                 \n",
      "__________________________________________________________________________________________________\n",
      "conv2d_transpose_7 (Conv2DTrans (None, 128, 128, 32) 36896       conv2d_33[0][0]                  \n",
      "__________________________________________________________________________________________________\n",
      "concatenate_7 (Concatenate)     (None, 128, 128, 64) 0           conv2d_transpose_7[0][0]         \n",
      "                                                                 conv2d_23[0][0]                  \n",
      "__________________________________________________________________________________________________\n",
      "conv2d_34 (Conv2D)              (None, 128, 128, 128 73856       concatenate_7[0][0]              \n",
      "__________________________________________________________________________________________________\n",
      "dropout_17 (Dropout)            (None, 128, 128, 128 0           conv2d_34[0][0]                  \n",
      "__________________________________________________________________________________________________\n",
      "conv2d_35 (Conv2D)              (None, 128, 128, 128 147584      dropout_17[0][0]                 \n",
      "__________________________________________________________________________________________________\n",
      "conv2d_transpose_8 (Conv2DTrans (None, 256, 256, 16) 18448       conv2d_35[0][0]                  \n",
      "__________________________________________________________________________________________________\n",
      "concatenate_8 (Concatenate)     (None, 256, 256, 32) 0           conv2d_transpose_8[0][0]         \n",
      "                                                                 conv2d_21[0][0]                  \n",
      "__________________________________________________________________________________________________\n",
      "conv2d_36 (Conv2D)              (None, 256, 256, 128 36992       concatenate_8[0][0]              \n"
     ]
    },
    {
     "name": "stdout",
     "output_type": "stream",
     "text": [
      "__________________________________________________________________________________________________\n",
      "dropout_18 (Dropout)            (None, 256, 256, 128 0           conv2d_36[0][0]                  \n",
      "__________________________________________________________________________________________________\n",
      "conv2d_37 (Conv2D)              (None, 256, 256, 128 147584      dropout_18[0][0]                 \n",
      "__________________________________________________________________________________________________\n",
      "conv2d_38 (Conv2D)              (None, 256, 256, 1)  129         conv2d_37[0][0]                  \n",
      "==================================================================================================\n",
      "Total params: 2,746,593\n",
      "Trainable params: 2,746,593\n",
      "Non-trainable params: 0\n",
      "__________________________________________________________________________________________________\n"
     ]
    }
   ],
   "source": [
    "# input layer\n",
    "inputs = Input((IMAGE_DIM + (1,)))\n",
    "\n",
    "# downsampling layers (left of the U)\n",
    "down_conv_0 = build_conv_block(inputs, depth=0)\n",
    "down_pool_0 = MaxPooling2D(POOLING_SIZE)(down_conv_0)\n",
    "down_conv_1 = build_conv_block(down_pool_0, depth=1)\n",
    "down_pool_1 = MaxPooling2D(POOLING_SIZE)(down_conv_1)\n",
    "down_conv_2 = build_conv_block(down_pool_1, depth=2)\n",
    "down_pool_2 = MaxPooling2D(POOLING_SIZE)(down_conv_2)\n",
    "down_conv_3 = build_conv_block(down_pool_2, depth=3)\n",
    "down_pool_3 = MaxPooling2D(POOLING_SIZE)(down_conv_3)\n",
    "\n",
    "# bottom layer\n",
    "conv_bottom = build_conv_block(down_pool_3, depth=4)\n",
    "\n",
    "# upsampling layers (right of the U)\n",
    "upsample_3 = build_upsample_block(conv_bottom, down_conv_3, 3)\n",
    "up_conv_3 = build_conv_block(upsample_3, depth=3)\n",
    "upsample_2= build_upsample_block(up_conv_3, down_conv_2, 2)\n",
    "up_conv_2= build_conv_block(upsample_2, depth=3)\n",
    "upsample_1= build_upsample_block(up_conv_2, down_conv_1, 1)\n",
    "up_conv_1= build_conv_block(upsample_1, depth=3)\n",
    "upsample_0= build_upsample_block(up_conv_1, down_conv_0, 0)\n",
    "up_conv_0= build_conv_block(upsample_0, depth=3)\n",
    "\n",
    "# output layer\n",
    "outputs = Conv2D(1, (1, 1), activation='sigmoid')(up_conv_0)\n",
    "\n",
    "# compile\n",
    "model = Model(inputs=[inputs], outputs=[outputs])\n",
    "model.compile(\n",
    "    optimizer=OPTIMIZER, \n",
    "    loss='binary_crossentropy', \n",
    "    metrics=['accuracy']\n",
    ")\n",
    "model.summary()"
   ]
  },
  {
   "cell_type": "code",
   "execution_count": 8,
   "metadata": {},
   "outputs": [
    {
     "name": "stdout",
     "output_type": "stream",
     "text": [
      "Train on 1809 samples, validate on 201 samples\n",
      "Epoch 1/50\n",
      " - 40s - loss: 0.4254 - acc: 0.8405 - val_loss: 0.3301 - val_acc: 0.8436\n",
      "Epoch 2/50\n",
      " - 37s - loss: 0.3205 - acc: 0.8492 - val_loss: 0.3085 - val_acc: 0.8436\n",
      "Epoch 3/50\n",
      " - 38s - loss: 0.2894 - acc: 0.8493 - val_loss: 0.2949 - val_acc: 0.8553\n",
      "Epoch 4/50\n",
      " - 38s - loss: 0.2739 - acc: 0.8802 - val_loss: 0.2929 - val_acc: 0.8680\n",
      "Epoch 5/50\n",
      " - 38s - loss: 0.2432 - acc: 0.9050 - val_loss: 0.2558 - val_acc: 0.8950\n",
      "Epoch 6/50\n",
      " - 38s - loss: 0.2025 - acc: 0.9173 - val_loss: 0.1968 - val_acc: 0.9126\n",
      "Epoch 7/50\n",
      " - 38s - loss: 0.1862 - acc: 0.9247 - val_loss: 0.2313 - val_acc: 0.9129\n",
      "Epoch 8/50\n",
      " - 38s - loss: 0.1677 - acc: 0.9322 - val_loss: 0.2143 - val_acc: 0.9184\n",
      "Epoch 9/50\n",
      " - 38s - loss: 0.1649 - acc: 0.9346 - val_loss: 0.2454 - val_acc: 0.9176\n",
      "Epoch 10/50\n",
      " - 38s - loss: 0.1512 - acc: 0.9394 - val_loss: 0.1734 - val_acc: 0.9298\n",
      "Epoch 11/50\n",
      " - 38s - loss: 0.1409 - acc: 0.9430 - val_loss: 0.1764 - val_acc: 0.9360\n",
      "Epoch 12/50\n",
      " - 39s - loss: 0.1320 - acc: 0.9467 - val_loss: 0.2056 - val_acc: 0.9352\n",
      "Epoch 13/50\n",
      " - 38s - loss: 0.1270 - acc: 0.9491 - val_loss: 0.2095 - val_acc: 0.9406\n",
      "Epoch 14/50\n",
      " - 39s - loss: 0.1172 - acc: 0.9527 - val_loss: 0.2478 - val_acc: 0.9395\n",
      "Epoch 15/50\n",
      " - 39s - loss: 0.1159 - acc: 0.9526 - val_loss: 0.1803 - val_acc: 0.9402\n",
      "Epoch 16/50\n",
      " - 39s - loss: 0.1170 - acc: 0.9531 - val_loss: 0.2037 - val_acc: 0.9426\n",
      "Epoch 17/50\n",
      " - 39s - loss: 0.1027 - acc: 0.9582 - val_loss: 0.3099 - val_acc: 0.9146\n",
      "Epoch 18/50\n",
      " - 39s - loss: 0.1003 - acc: 0.9591 - val_loss: 0.2725 - val_acc: 0.9394\n",
      "Epoch 19/50\n",
      " - 39s - loss: 0.0944 - acc: 0.9616 - val_loss: 0.2408 - val_acc: 0.9392\n",
      "Epoch 20/50\n",
      " - 39s - loss: 0.0922 - acc: 0.9622 - val_loss: 0.2439 - val_acc: 0.9384\n",
      "Epoch 21/50\n",
      " - 39s - loss: 0.0936 - acc: 0.9615 - val_loss: 0.1501 - val_acc: 0.9512\n",
      "Epoch 22/50\n",
      " - 39s - loss: 0.0866 - acc: 0.9645 - val_loss: 0.1770 - val_acc: 0.9475\n",
      "Epoch 23/50\n",
      " - 39s - loss: 0.0848 - acc: 0.9652 - val_loss: 0.2480 - val_acc: 0.9379\n",
      "Epoch 24/50\n",
      " - 39s - loss: 0.0856 - acc: 0.9646 - val_loss: 0.1846 - val_acc: 0.9444\n",
      "Epoch 25/50\n",
      " - 39s - loss: 0.0849 - acc: 0.9652 - val_loss: 0.1801 - val_acc: 0.9444\n",
      "Epoch 26/50\n",
      " - 39s - loss: 0.0815 - acc: 0.9664 - val_loss: 0.1581 - val_acc: 0.9471\n",
      "Epoch 27/50\n",
      " - 39s - loss: 0.0803 - acc: 0.9670 - val_loss: 0.3218 - val_acc: 0.9341\n",
      "Epoch 28/50\n",
      " - 38s - loss: 0.0799 - acc: 0.9674 - val_loss: 0.1645 - val_acc: 0.9479\n",
      "Epoch 29/50\n",
      " - 39s - loss: 0.0793 - acc: 0.9675 - val_loss: 0.1337 - val_acc: 0.9534\n",
      "Epoch 30/50\n",
      " - 38s - loss: 0.0834 - acc: 0.9661 - val_loss: 0.2109 - val_acc: 0.9442\n",
      "Epoch 31/50\n",
      " - 39s - loss: 0.0757 - acc: 0.9690 - val_loss: 0.1787 - val_acc: 0.9444\n",
      "Epoch 32/50\n",
      " - 39s - loss: 0.0752 - acc: 0.9693 - val_loss: 0.1830 - val_acc: 0.9453\n",
      "Epoch 33/50\n",
      " - 39s - loss: 0.0741 - acc: 0.9697 - val_loss: 0.1673 - val_acc: 0.9437\n",
      "Epoch 34/50\n",
      " - 39s - loss: 0.0750 - acc: 0.9693 - val_loss: 0.1347 - val_acc: 0.9540\n",
      "Epoch 35/50\n",
      " - 39s - loss: 0.0731 - acc: 0.9700 - val_loss: 0.1330 - val_acc: 0.9545\n",
      "Epoch 36/50\n",
      " - 39s - loss: 0.0735 - acc: 0.9698 - val_loss: 0.1478 - val_acc: 0.9508\n",
      "Epoch 37/50\n",
      " - 39s - loss: 0.0707 - acc: 0.9712 - val_loss: 0.1582 - val_acc: 0.9489\n",
      "Epoch 38/50\n",
      " - 39s - loss: 0.0690 - acc: 0.9718 - val_loss: 0.1494 - val_acc: 0.9523\n",
      "Epoch 39/50\n",
      " - 39s - loss: 0.0700 - acc: 0.9715 - val_loss: 0.1008 - val_acc: 0.9617\n",
      "Epoch 40/50\n",
      " - 39s - loss: 0.0696 - acc: 0.9716 - val_loss: 0.1671 - val_acc: 0.9506\n",
      "Epoch 41/50\n",
      " - 39s - loss: 0.0805 - acc: 0.9674 - val_loss: 0.1402 - val_acc: 0.9479\n",
      "Epoch 42/50\n",
      " - 39s - loss: 0.0734 - acc: 0.9701 - val_loss: 0.1430 - val_acc: 0.9515\n",
      "Epoch 43/50\n",
      " - 39s - loss: 0.0691 - acc: 0.9718 - val_loss: 0.1248 - val_acc: 0.9558\n",
      "Epoch 44/50\n",
      " - 38s - loss: 0.0683 - acc: 0.9721 - val_loss: 0.1282 - val_acc: 0.9574\n",
      "Epoch 45/50\n",
      " - 39s - loss: 0.0663 - acc: 0.9728 - val_loss: 0.1425 - val_acc: 0.9562\n",
      "Epoch 46/50\n",
      " - 39s - loss: 0.0683 - acc: 0.9721 - val_loss: 0.1528 - val_acc: 0.9536\n",
      "Epoch 47/50\n",
      " - 39s - loss: 0.0660 - acc: 0.9731 - val_loss: 0.1233 - val_acc: 0.9582\n",
      "Epoch 48/50\n",
      " - 38s - loss: 0.0705 - acc: 0.9714 - val_loss: 0.1188 - val_acc: 0.9594\n",
      "Epoch 49/50\n",
      " - 38s - loss: 0.0668 - acc: 0.9728 - val_loss: 0.1270 - val_acc: 0.9594\n",
      "Epoch 50/50\n",
      " - 39s - loss: 0.0635 - acc: 0.9740 - val_loss: 0.1181 - val_acc: 0.9602\n"
     ]
    }
   ],
   "source": [
    "from keras.callbacks import EarlyStopping, ModelCheckpoint\n",
    "from keras.models import load_model\n",
    "from sklearn.model_selection import train_test_split\n",
    "\n",
    "BATCH_SIZE = 16\n",
    "EPOCHS = 50\n",
    "VALIDATION_SIZE = 0.1\n",
    "BEST_MODEL_FILENAME = 'checkpoints/dsb2018-unet-benchmark-checkpoint.h5'\n",
    "CALLBACKS = [\n",
    "    ModelCheckpoint(BEST_MODEL_FILENAME, save_best_only=True)\n",
    "]\n",
    "\n",
    "Xtr, Xva, Ytr, Yva = train_test_split(X, Y, test_size=VALIDATION_SIZE)\n",
    "\n",
    "history = model.fit(\n",
    "    Xtr, Ytr, \n",
    "    validation_data=(Xva, Yva),\n",
    "    batch_size=BATCH_SIZE, \n",
    "    epochs=EPOCHS, \n",
    "    callbacks=CALLBACKS,\n",
    "    verbose=2\n",
    ")\n",
    "\n",
    "model = load_model(BEST_MODEL_FILENAME)"
   ]
  },
  {
   "cell_type": "markdown",
   "metadata": {},
   "source": [
    "# 4. Conclusion"
   ]
  },
  {
   "cell_type": "code",
   "execution_count": 9,
   "metadata": {},
   "outputs": [
    {
     "data": {
      "image/png": "[encoded data removed]",
      "text/plain": [
       "<matplotlib.figure.Figure at 0x24a9aef4cf8>"
      ]
     },
     "metadata": {},
     "output_type": "display_data"
    }
   ],
   "source": [
    "from project_utils import show_history\n",
    "\n",
    "show_history(history.history)"
   ]
  },
  {
   "cell_type": "code",
   "execution_count": 10,
   "metadata": {},
   "outputs": [
    {
     "name": "stderr",
     "output_type": "stream",
     "text": [
      "c:\\users\\chuanli\\appdata\\local\\programs\\python\\python35\\lib\\site-packages\\skimage\\transform\\_warps.py:84: UserWarning: The default mode, 'constant', will be changed to 'reflect' in skimage 0.15.\n",
      "  warn(\"The default mode, 'constant', will be changed to 'reflect' in \"\n"
     ]
    },
    {
     "name": "stdout",
     "output_type": "stream",
     "text": [
      "Submittable file saved as \"submission/baseline_20180324-032045.csv\"\n"
     ]
    }
   ],
   "source": [
    "from project_utils import format_prediction, make_submittable\n",
    "\n",
    "PREDICTION_THRESHOLD = 0.5\n",
    "\n",
    "Y_ = format_prediction(\n",
    "    model.predict(X_), \n",
    "    original = test['image'],\n",
    "    reduce_dimension=True\n",
    ")\n",
    "\n",
    "file_name = make_submittable(test['id'], Y_, title='baseline')\n",
    "print(\"Submittable file saved as \\\"%s\\\"\" % file_name)"
   ]
  },
  {
   "cell_type": "code",
   "execution_count": null,
   "metadata": {},
   "outputs": [],
   "source": []
  }
 ],
 "metadata": {
  "kernelspec": {
   "display_name": "Python 3",
   "language": "python",
   "name": "python3"
  },
  "language_info": {
   "codemirror_mode": {
    "name": "ipython",
    "version": 3
   },
   "file_extension": ".py",
   "mimetype": "text/x-python",
   "name": "python",
   "nbconvert_exporter": "python",
   "pygments_lexer": "ipython3",
   "version": "3.5.2"
  }
 },
 "nbformat": 4,
 "nbformat_minor": 2
}
